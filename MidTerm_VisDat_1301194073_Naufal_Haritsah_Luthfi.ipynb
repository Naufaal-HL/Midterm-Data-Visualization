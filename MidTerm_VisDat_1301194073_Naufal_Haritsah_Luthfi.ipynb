{
  "nbformat": 4,
  "nbformat_minor": 0,
  "metadata": {
    "colab": {
      "name": "MidTerm_VisDat_1301194073",
      "provenance": [],
      "collapsed_sections": []
    },
    "kernelspec": {
      "name": "python3",
      "display_name": "Python 3"
    },
    "language_info": {
      "name": "python"
    }
  },
  "cells": [
    {
      "cell_type": "markdown",
      "metadata": {
        "id": "LxlJ68gO9jV6"
      },
      "source": [
        "# **MidTerm Project Visualisasi Data**\n",
        "\n",
        "Naufal Haritsah Luthfi   - 1301194073\n",
        "\n",
        ">\n",
        ">\n",
        "\n",
        "**Library Yang Digunakan :**\n",
        "\n",
        "1. Pandas, sebagai alat bantu statistik dalam pengolahan data\n",
        "2. Seaborn, sebagai library tambahan dalam visualisasi data\n",
        "3. Numpy, sebagai alat bantu operasi komputasi tipe data numerik\n",
        "4. Matplotlib, sebagai library tambahan dalam visualisasi data"
      ]
    },
    {
      "cell_type": "code",
      "metadata": {
        "id": "mHZ80U4S4vGh"
      },
      "source": [
        "import pandas as pd\n",
        "import seaborn as sns\n",
        "import numpy as np\n",
        "import matplotlib.pyplot as plt"
      ],
      "execution_count": null,
      "outputs": []
    },
    {
      "cell_type": "markdown",
      "metadata": {
        "id": "JYr3VcIt_gHU"
      },
      "source": [
        "# **Data Set 1**\n",
        "**Deskripsi Data :**\n",
        "\n",
        "Data set ini terdiri dari data historis terkait dengan kasus COVID-19 di Indonesia pada \n",
        "periode 2 – 31 Maret 2020. Data historis yang tersedia di antaranya jumlah akumulatif \n",
        "tes sampel, terkonfirmasi positif, terkonfirmasi negatif, dan data lainnya."
      ]
    },
    {
      "cell_type": "code",
      "metadata": {
        "colab": {
          "base_uri": "https://localhost:8080/"
        },
        "id": "ouIOQ_f5vghl",
        "outputId": "45c03390-6758-49c2-99e9-4392ae587de0"
      },
      "source": [
        "!gdown --id 1nWcdNzhXAp87PkjsGmv0rYJzopMzgs58"
      ],
      "execution_count": null,
      "outputs": [
        {
          "output_type": "stream",
          "name": "stdout",
          "text": [
            "Downloading...\n",
            "From: https://drive.google.com/uc?id=1nWcdNzhXAp87PkjsGmv0rYJzopMzgs58\n",
            "To: /content/Data_Set_1.csv\n",
            "\r  0% 0.00/1.15k [00:00<?, ?B/s]\r100% 1.15k/1.15k [00:00<00:00, 4.85MB/s]\n"
          ]
        }
      ]
    },
    {
      "cell_type": "markdown",
      "metadata": {
        "id": "UCEzRYqJ_zd-"
      },
      "source": [
        "## **Jawaban Pertanyaan**"
      ]
    },
    {
      "cell_type": "markdown",
      "metadata": {
        "id": "iotog_MO5xkq"
      },
      "source": [
        "### **Pengecekan Data**"
      ]
    },
    {
      "cell_type": "code",
      "metadata": {
        "id": "vHtPBprRYVlW"
      },
      "source": [
        "data1 = pd.read_csv('Data_Set_1.csv')"
      ],
      "execution_count": null,
      "outputs": []
    },
    {
      "cell_type": "code",
      "metadata": {
        "colab": {
          "base_uri": "https://localhost:8080/"
        },
        "id": "fvlDda725wYz",
        "outputId": "3e139681-fe20-4146-fcaa-ca0585bd23c4"
      },
      "source": [
        "data1.isnull().sum()"
      ],
      "execution_count": null,
      "outputs": [
        {
          "output_type": "execute_result",
          "data": {
            "text/plain": [
              "date             0\n",
              "new_tested       0\n",
              "acc_tested       0\n",
              "new_confirmed    0\n",
              "acc_confirmed    0\n",
              "acc_negative     0\n",
              "being_checked    0\n",
              "isolated         0\n",
              "dtype: int64"
            ]
          },
          "metadata": {},
          "execution_count": 63
        }
      ]
    },
    {
      "cell_type": "code",
      "metadata": {
        "colab": {
          "base_uri": "https://localhost:8080/",
          "height": 391
        },
        "id": "30sAZ0aL6k28",
        "outputId": "555511fc-999e-4d3c-d497-d494db38f63a"
      },
      "source": [
        "data1.head()"
      ],
      "execution_count": null,
      "outputs": [
        {
          "output_type": "execute_result",
          "data": {
            "text/html": [
              "<div>\n",
              "<style scoped>\n",
              "    .dataframe tbody tr th:only-of-type {\n",
              "        vertical-align: middle;\n",
              "    }\n",
              "\n",
              "    .dataframe tbody tr th {\n",
              "        vertical-align: top;\n",
              "    }\n",
              "\n",
              "    .dataframe thead th {\n",
              "        text-align: right;\n",
              "    }\n",
              "</style>\n",
              "<table border=\"1\" class=\"dataframe\">\n",
              "  <thead>\n",
              "    <tr style=\"text-align: right;\">\n",
              "      <th></th>\n",
              "      <th>date</th>\n",
              "      <th>new_tested</th>\n",
              "      <th>acc_tested</th>\n",
              "      <th>new_confirmed</th>\n",
              "      <th>acc_confirmed</th>\n",
              "      <th>acc_negative</th>\n",
              "      <th>being_checked</th>\n",
              "      <th>isolated</th>\n",
              "    </tr>\n",
              "  </thead>\n",
              "  <tbody>\n",
              "    <tr>\n",
              "      <th>0</th>\n",
              "      <td>02-Mar-20</td>\n",
              "      <td>339</td>\n",
              "      <td>339</td>\n",
              "      <td>2</td>\n",
              "      <td>2</td>\n",
              "      <td>335</td>\n",
              "      <td>2</td>\n",
              "      <td>2</td>\n",
              "    </tr>\n",
              "    <tr>\n",
              "      <th>1</th>\n",
              "      <td>03-Mar-20</td>\n",
              "      <td>2</td>\n",
              "      <td>341</td>\n",
              "      <td>0</td>\n",
              "      <td>2</td>\n",
              "      <td>337</td>\n",
              "      <td>2</td>\n",
              "      <td>2</td>\n",
              "    </tr>\n",
              "    <tr>\n",
              "      <th>2</th>\n",
              "      <td>04-Mar-20</td>\n",
              "      <td>31</td>\n",
              "      <td>372</td>\n",
              "      <td>0</td>\n",
              "      <td>2</td>\n",
              "      <td>356</td>\n",
              "      <td>14</td>\n",
              "      <td>2</td>\n",
              "    </tr>\n",
              "    <tr>\n",
              "      <th>3</th>\n",
              "      <td>05-Mar-20</td>\n",
              "      <td>16</td>\n",
              "      <td>388</td>\n",
              "      <td>0</td>\n",
              "      <td>2</td>\n",
              "      <td>371</td>\n",
              "      <td>15</td>\n",
              "      <td>2</td>\n",
              "    </tr>\n",
              "    <tr>\n",
              "      <th>4</th>\n",
              "      <td>06-Mar-20</td>\n",
              "      <td>62</td>\n",
              "      <td>450</td>\n",
              "      <td>2</td>\n",
              "      <td>4</td>\n",
              "      <td>422</td>\n",
              "      <td>24</td>\n",
              "      <td>4</td>\n",
              "    </tr>\n",
              "  </tbody>\n",
              "</table>\n",
              "</div>"
            ],
            "text/plain": [
              "        date  new_tested  acc_tested  ...  acc_negative  being_checked  isolated\n",
              "0  02-Mar-20         339         339  ...           335              2         2\n",
              "1  03-Mar-20           2         341  ...           337              2         2\n",
              "2  04-Mar-20          31         372  ...           356             14         2\n",
              "3  05-Mar-20          16         388  ...           371             15         2\n",
              "4  06-Mar-20          62         450  ...           422             24         4\n",
              "\n",
              "[5 rows x 8 columns]"
            ]
          },
          "metadata": {},
          "execution_count": 64
        }
      ]
    },
    {
      "cell_type": "code",
      "metadata": {
        "colab": {
          "base_uri": "https://localhost:8080/",
          "height": 391
        },
        "id": "C7TKABOm60sv",
        "outputId": "cd9eec17-37bc-49d3-a668-efd375faaa90"
      },
      "source": [
        "data1.tail()"
      ],
      "execution_count": null,
      "outputs": [
        {
          "output_type": "execute_result",
          "data": {
            "text/html": [
              "<div>\n",
              "<style scoped>\n",
              "    .dataframe tbody tr th:only-of-type {\n",
              "        vertical-align: middle;\n",
              "    }\n",
              "\n",
              "    .dataframe tbody tr th {\n",
              "        vertical-align: top;\n",
              "    }\n",
              "\n",
              "    .dataframe thead th {\n",
              "        text-align: right;\n",
              "    }\n",
              "</style>\n",
              "<table border=\"1\" class=\"dataframe\">\n",
              "  <thead>\n",
              "    <tr style=\"text-align: right;\">\n",
              "      <th></th>\n",
              "      <th>date</th>\n",
              "      <th>new_tested</th>\n",
              "      <th>acc_tested</th>\n",
              "      <th>new_confirmed</th>\n",
              "      <th>acc_confirmed</th>\n",
              "      <th>acc_negative</th>\n",
              "      <th>being_checked</th>\n",
              "      <th>isolated</th>\n",
              "    </tr>\n",
              "  </thead>\n",
              "  <tbody>\n",
              "    <tr>\n",
              "      <th>25</th>\n",
              "      <td>27-Mar-20</td>\n",
              "      <td>1439</td>\n",
              "      <td>5775</td>\n",
              "      <td>153</td>\n",
              "      <td>1046</td>\n",
              "      <td>4729</td>\n",
              "      <td>0</td>\n",
              "      <td>913</td>\n",
              "    </tr>\n",
              "    <tr>\n",
              "      <th>26</th>\n",
              "      <td>28-Mar-20</td>\n",
              "      <td>491</td>\n",
              "      <td>6266</td>\n",
              "      <td>109</td>\n",
              "      <td>1155</td>\n",
              "      <td>5111</td>\n",
              "      <td>0</td>\n",
              "      <td>994</td>\n",
              "    </tr>\n",
              "    <tr>\n",
              "      <th>27</th>\n",
              "      <td>29-Mar-20</td>\n",
              "      <td>268</td>\n",
              "      <td>6534</td>\n",
              "      <td>130</td>\n",
              "      <td>1285</td>\n",
              "      <td>5249</td>\n",
              "      <td>0</td>\n",
              "      <td>1107</td>\n",
              "    </tr>\n",
              "    <tr>\n",
              "      <th>28</th>\n",
              "      <td>30-Mar-20</td>\n",
              "      <td>129</td>\n",
              "      <td>6663</td>\n",
              "      <td>129</td>\n",
              "      <td>1414</td>\n",
              "      <td>5249</td>\n",
              "      <td>0</td>\n",
              "      <td>1217</td>\n",
              "    </tr>\n",
              "    <tr>\n",
              "      <th>29</th>\n",
              "      <td>31-Mar-20</td>\n",
              "      <td>114</td>\n",
              "      <td>6777</td>\n",
              "      <td>114</td>\n",
              "      <td>1528</td>\n",
              "      <td>5249</td>\n",
              "      <td>0</td>\n",
              "      <td>1311</td>\n",
              "    </tr>\n",
              "  </tbody>\n",
              "</table>\n",
              "</div>"
            ],
            "text/plain": [
              "         date  new_tested  acc_tested  ...  acc_negative  being_checked  isolated\n",
              "25  27-Mar-20        1439        5775  ...          4729              0       913\n",
              "26  28-Mar-20         491        6266  ...          5111              0       994\n",
              "27  29-Mar-20         268        6534  ...          5249              0      1107\n",
              "28  30-Mar-20         129        6663  ...          5249              0      1217\n",
              "29  31-Mar-20         114        6777  ...          5249              0      1311\n",
              "\n",
              "[5 rows x 8 columns]"
            ]
          },
          "metadata": {},
          "execution_count": 65
        }
      ]
    },
    {
      "cell_type": "markdown",
      "metadata": {
        "id": "uhY_2u2X1V6G"
      },
      "source": [
        "###**Soal 1**\n",
        "Dengan menggunakan line plot, tampilkan perbandingan jumlah akumulatif tes sampel, \n",
        "terkonfirmasi positif dan terkonfirmasi negatif untuk periode waktu yang tersedia."
      ]
    },
    {
      "cell_type": "code",
      "metadata": {
        "id": "2Gololq5_7yY",
        "colab": {
          "base_uri": "https://localhost:8080/",
          "height": 280
        },
        "outputId": "384cc1b1-cae8-44ff-beac-e649f7c58396"
      },
      "source": [
        "data1.plot(x='date',y=['acc_tested','acc_confirmed', 'acc_negative'])\n",
        "plt.xlabel('Tanggal')\n",
        "plt.ylabel('Jumlah')\n",
        "plt.show()"
      ],
      "execution_count": null,
      "outputs": [
        {
          "output_type": "display_data",
          "data": {
            "image/png": "[encoded data removed]",
            "text/plain": [
              "<Figure size 432x288 with 1 Axes>"
            ]
          },
          "metadata": {
            "needs_background": "light"
          }
        }
      ]
    },
    {
      "cell_type": "markdown",
      "metadata": {
        "id": "8-qhhNUJ13wQ"
      },
      "source": [
        "###**Soal 2**"
      ]
    },
    {
      "cell_type": "markdown",
      "metadata": {
        "id": "aspkhrItZPOQ"
      },
      "source": [
        "*   Hitunglah nilai positive rate dan negative rate untuk masing-masing waktu"
      ]
    },
    {
      "cell_type": "code",
      "metadata": {
        "id": "e-70b1J725WK",
        "colab": {
          "base_uri": "https://localhost:8080/",
          "height": 391
        },
        "outputId": "45540e82-ae51-4a36-a074-06d031a852dd"
      },
      "source": [
        "data1['Positivity_Rate'] = data1['acc_confirmed'] / data1['acc_tested'] * 100\n",
        "data1['Negativity_Rate'] = data1['acc_negative'] / data1['acc_tested'] * 100\n",
        "data1.head()"
      ],
      "execution_count": null,
      "outputs": [
        {
          "output_type": "execute_result",
          "data": {
            "text/html": [
              "<div>\n",
              "<style scoped>\n",
              "    .dataframe tbody tr th:only-of-type {\n",
              "        vertical-align: middle;\n",
              "    }\n",
              "\n",
              "    .dataframe tbody tr th {\n",
              "        vertical-align: top;\n",
              "    }\n",
              "\n",
              "    .dataframe thead th {\n",
              "        text-align: right;\n",
              "    }\n",
              "</style>\n",
              "<table border=\"1\" class=\"dataframe\">\n",
              "  <thead>\n",
              "    <tr style=\"text-align: right;\">\n",
              "      <th></th>\n",
              "      <th>date</th>\n",
              "      <th>new_tested</th>\n",
              "      <th>acc_tested</th>\n",
              "      <th>new_confirmed</th>\n",
              "      <th>acc_confirmed</th>\n",
              "      <th>acc_negative</th>\n",
              "      <th>being_checked</th>\n",
              "      <th>isolated</th>\n",
              "      <th>Positivity_Rate</th>\n",
              "      <th>Negativity_Rate</th>\n",
              "    </tr>\n",
              "  </thead>\n",
              "  <tbody>\n",
              "    <tr>\n",
              "      <th>0</th>\n",
              "      <td>02-Mar-20</td>\n",
              "      <td>339</td>\n",
              "      <td>339</td>\n",
              "      <td>2</td>\n",
              "      <td>2</td>\n",
              "      <td>335</td>\n",
              "      <td>2</td>\n",
              "      <td>2</td>\n",
              "      <td>0.589971</td>\n",
              "      <td>98.820059</td>\n",
              "    </tr>\n",
              "    <tr>\n",
              "      <th>1</th>\n",
              "      <td>03-Mar-20</td>\n",
              "      <td>2</td>\n",
              "      <td>341</td>\n",
              "      <td>0</td>\n",
              "      <td>2</td>\n",
              "      <td>337</td>\n",
              "      <td>2</td>\n",
              "      <td>2</td>\n",
              "      <td>0.586510</td>\n",
              "      <td>98.826979</td>\n",
              "    </tr>\n",
              "    <tr>\n",
              "      <th>2</th>\n",
              "      <td>04-Mar-20</td>\n",
              "      <td>31</td>\n",
              "      <td>372</td>\n",
              "      <td>0</td>\n",
              "      <td>2</td>\n",
              "      <td>356</td>\n",
              "      <td>14</td>\n",
              "      <td>2</td>\n",
              "      <td>0.537634</td>\n",
              "      <td>95.698925</td>\n",
              "    </tr>\n",
              "    <tr>\n",
              "      <th>3</th>\n",
              "      <td>05-Mar-20</td>\n",
              "      <td>16</td>\n",
              "      <td>388</td>\n",
              "      <td>0</td>\n",
              "      <td>2</td>\n",
              "      <td>371</td>\n",
              "      <td>15</td>\n",
              "      <td>2</td>\n",
              "      <td>0.515464</td>\n",
              "      <td>95.618557</td>\n",
              "    </tr>\n",
              "    <tr>\n",
              "      <th>4</th>\n",
              "      <td>06-Mar-20</td>\n",
              "      <td>62</td>\n",
              "      <td>450</td>\n",
              "      <td>2</td>\n",
              "      <td>4</td>\n",
              "      <td>422</td>\n",
              "      <td>24</td>\n",
              "      <td>4</td>\n",
              "      <td>0.888889</td>\n",
              "      <td>93.777778</td>\n",
              "    </tr>\n",
              "  </tbody>\n",
              "</table>\n",
              "</div>"
            ],
            "text/plain": [
              "        date  new_tested  ...  Positivity_Rate  Negativity_Rate\n",
              "0  02-Mar-20         339  ...         0.589971        98.820059\n",
              "1  03-Mar-20           2  ...         0.586510        98.826979\n",
              "2  04-Mar-20          31  ...         0.537634        95.698925\n",
              "3  05-Mar-20          16  ...         0.515464        95.618557\n",
              "4  06-Mar-20          62  ...         0.888889        93.777778\n",
              "\n",
              "[5 rows x 10 columns]"
            ]
          },
          "metadata": {},
          "execution_count": 67
        }
      ]
    },
    {
      "cell_type": "markdown",
      "metadata": {
        "id": "GN-XxL7FZK8x"
      },
      "source": [
        "*   Dengan menggunakan bar plot, tampilkan perbandingan positivity rate dan dan negativity rate untuk periode waktu yang tersedia"
      ]
    },
    {
      "cell_type": "code",
      "metadata": {
        "colab": {
          "base_uri": "https://localhost:8080/",
          "height": 445
        },
        "id": "qsc5-CXGZZLD",
        "outputId": "436c0ac0-f81f-4775-c275-0ba331d80c85"
      },
      "source": [
        "data1.plot(x=\"date\", y=[\"Positivity_Rate\", \"Negativity_Rate\"],\n",
        "          kind ='bar', \n",
        "          figsize=(10, 6),\n",
        "          alpha=0.7,\n",
        "          )\n",
        "\n",
        "plt.title('Positivity Rate Dan Negativity Rate')\n",
        "plt.ylabel('Rate (In Percent)')\n",
        "plt.xlabel('Date')\n",
        "plt.show()"
      ],
      "execution_count": null,
      "outputs": [
        {
          "output_type": "display_data",
          "data": {
            "image/png": "[encoded data removed]",
            "text/plain": [
              "<Figure size 720x432 with 1 Axes>"
            ]
          },
          "metadata": {
            "needs_background": "light"
          }
        }
      ]
    },
    {
      "cell_type": "markdown",
      "metadata": {
        "id": "0AXm_jxrZRoi"
      },
      "source": [
        "*    Pada tanggal berapa nilai positive rate menunjukkan nilai tertinggi?"
      ]
    },
    {
      "cell_type": "code",
      "metadata": {
        "colab": {
          "base_uri": "https://localhost:8080/"
        },
        "id": "Qr9X9I4mZht4",
        "outputId": "5ab9b70d-7b66-48f2-cb65-b8563dfc4cef"
      },
      "source": [
        "tinggi_positive = data1['Positivity_Rate'].max()\n",
        "data1.loc[data1['Positivity_Rate'] == tinggi_positive, 'date']"
      ],
      "execution_count": null,
      "outputs": [
        {
          "output_type": "execute_result",
          "data": {
            "text/plain": [
              "29    31-Mar-20\n",
              "Name: date, dtype: object"
            ]
          },
          "metadata": {},
          "execution_count": 69
        }
      ]
    },
    {
      "cell_type": "markdown",
      "metadata": {
        "id": "rwqitMw6i2SX"
      },
      "source": [
        "Nilai Positive Rate tertinggi terjadi pada tanggal 31 Maret 2020"
      ]
    },
    {
      "cell_type": "markdown",
      "metadata": {
        "id": "Ot8sJsb4ZUpD"
      },
      "source": [
        "*    Pada tanggal berapa nilai negative rate menunjukkan nilai tertinggi?"
      ]
    },
    {
      "cell_type": "code",
      "metadata": {
        "colab": {
          "base_uri": "https://localhost:8080/"
        },
        "id": "EKqhhdy6Zs3Q",
        "outputId": "7704550c-707b-4626-9aaf-f0566fdf5c7d"
      },
      "source": [
        "tinggi_negative = data1['Negativity_Rate'].max()\n",
        "data1.loc[data1['Negativity_Rate'] == tinggi_negative, 'date']"
      ],
      "execution_count": null,
      "outputs": [
        {
          "output_type": "execute_result",
          "data": {
            "text/plain": [
              "1    03-Mar-20\n",
              "Name: date, dtype: object"
            ]
          },
          "metadata": {},
          "execution_count": 70
        }
      ]
    },
    {
      "cell_type": "markdown",
      "metadata": {
        "id": "kfHDNsMfjFgR"
      },
      "source": [
        "Nilai Negative Rate tertinggi terjadi pada tanggal 3 Maret 2020"
      ]
    },
    {
      "cell_type": "markdown",
      "metadata": {
        "id": "E-rKuOKR2jd7"
      },
      "source": [
        "###**Soal 3**"
      ]
    },
    {
      "cell_type": "markdown",
      "metadata": {
        "id": "ZIEqHhZ-aFrT"
      },
      "source": [
        "*   Dengan menggunakan heatmap, tunjukkan korelasi antar variabel yang ada pada \n",
        "dataset."
      ]
    },
    {
      "cell_type": "code",
      "metadata": {
        "colab": {
          "base_uri": "https://localhost:8080/",
          "height": 330
        },
        "id": "ahYgVfyJ2T0l",
        "outputId": "a1ae592f-761f-45ad-9fd7-9ae72a973aed"
      },
      "source": [
        "data1 = data1.drop(['Positivity_Rate', 'Negativity_Rate'], axis=1)\n",
        "plt.figure(figsize=(18,8))\n",
        "heatmap = sns.heatmap(data1.corr(), vmin=-1, vmax=1, annot=True)\n",
        "heatmap.set_title('Correlation Heatmap', fontdict={'fontsize':12}, pad=12);"
      ],
      "execution_count": null,
      "outputs": [
        {
          "output_type": "display_data",
          "data": {
            "image/png": "[encoded data removed]",
            "text/plain": [
              "<Figure size 1296x576 with 2 Axes>"
            ]
          },
          "metadata": {
            "needs_background": "light"
          }
        }
      ]
    },
    {
      "cell_type": "markdown",
      "metadata": {
        "id": "pNjwgUBDaCBI"
      },
      "source": [
        "*   Tentukan variabel-variabel yang memiliki nilai korelasi paling positif, dan berikan penjelasan terkait nilai korelasi tersebut.\n",
        "  1. acc_tested memiliki korelasi yang sangat kuat terhadap acc_negative dengan nilai korelasi positif sebesar 1. Ketika variabel acc_tested bertambah maka variabel acc_negative juga akan bertambah dan sebaliknya, karena kedua variabel tersebut memiliki korelasi yang sangat kuat\n",
        "  2. isolated memiliki korelasi yang sangat kuat terhadap acc_confirmed dengan nilai korelasi positif sebesar 1. Ketika variabel isolated bertambah maka variabel acc_confirmed juga akan bertambah dan sebaliknya, karena kedua variabel tersebut memiliki korelasi yang sangat kuat"
      ]
    },
    {
      "cell_type": "markdown",
      "metadata": {
        "id": "6NkuXQtiZ8NV"
      },
      "source": [
        "*   Tentukan variabel-variabel yang memiliki nilai korelasi paling negatif, dan berikan penjelasan terkait nilai korelasi tersebut.\n",
        "  1. being_checked memiliki korelasi yang kuat terhadap acc_tested dengan nilai korelasi negatif sebesar -0.61. Ketika variabel acc_tested bertambah maka variabel being_checked akan berkurang yang artinya kedua variabel tersebut bertolak belakang\n",
        "  2. being_checked memiliki korelasi yang kuat terhadap acc_negative dengan nilai korelasi negatif sebesari -0.61. Ketika variabel acc_negative bertambah maka variabel being_checked akan berkurang yang artinya kedua variabel tersebut bertolak belakang"
      ]
    },
    {
      "cell_type": "markdown",
      "metadata": {
        "id": "ZxmPiR_Y3m8t"
      },
      "source": [
        "# **Data Set 2**\n",
        "**Deskripsi Data :**\n",
        "\n",
        "Data set ini menyajikan data spasial terkait kasus COVID-19 di masing-masing provinsi di Indonesia. Data yang disajikan di antaranya jumlah populasi, jumlah kasus positif, dan \n",
        "lain-lain."
      ]
    },
    {
      "cell_type": "markdown",
      "metadata": {
        "id": "yIUT0byl3m8x"
      },
      "source": [
        "## **Jawaban Pertanyaan**"
      ]
    },
    {
      "cell_type": "code",
      "metadata": {
        "colab": {
          "base_uri": "https://localhost:8080/"
        },
        "id": "J6mBJsZ4a8We",
        "outputId": "96a86f27-5f96-4ebc-d470-8628341c660a"
      },
      "source": [
        "!gdown --id 1O4aaN2tLLhGwiRpjEhiMCovpQqQMP4JC"
      ],
      "execution_count": null,
      "outputs": [
        {
          "output_type": "stream",
          "name": "stdout",
          "text": [
            "Downloading...\n",
            "From: https://drive.google.com/uc?id=1O4aaN2tLLhGwiRpjEhiMCovpQqQMP4JC\n",
            "To: /content/Data_Set_2.csv\n",
            "\r  0% 0.00/2.82k [00:00<?, ?B/s]\r100% 2.82k/2.82k [00:00<00:00, 6.89MB/s]\n"
          ]
        }
      ]
    },
    {
      "cell_type": "markdown",
      "metadata": {
        "id": "z0AwHCzXBBej"
      },
      "source": [
        "### **Pengecekan Data**"
      ]
    },
    {
      "cell_type": "code",
      "metadata": {
        "id": "RXfHeFME3m8v"
      },
      "source": [
        "data2 = pd.read_csv('Data_Set_2.csv')"
      ],
      "execution_count": null,
      "outputs": []
    },
    {
      "cell_type": "code",
      "metadata": {
        "colab": {
          "base_uri": "https://localhost:8080/"
        },
        "id": "GvbuOX3rBG2y",
        "outputId": "f4bddc35-d7b5-4dd9-a3e3-d9944c4e6aae"
      },
      "source": [
        "data2.isnull().sum()"
      ],
      "execution_count": null,
      "outputs": [
        {
          "output_type": "execute_result",
          "data": {
            "text/plain": [
              "province_id            0\n",
              "province_name          0\n",
              "island                 0\n",
              "iso_code               0\n",
              "capital_city           0\n",
              "population             0\n",
              "population_kmsquare    0\n",
              "confirmed              0\n",
              "deceased               0\n",
              "released               0\n",
              "longitude              0\n",
              "latitude               0\n",
              "dtype: int64"
            ]
          },
          "metadata": {},
          "execution_count": 74
        }
      ]
    },
    {
      "cell_type": "code",
      "metadata": {
        "colab": {
          "base_uri": "https://localhost:8080/",
          "height": 257
        },
        "id": "U4ubhX75BG3Q",
        "outputId": "388e82e8-f809-4701-b5ac-d8dc60d39c62"
      },
      "source": [
        "data2.head()"
      ],
      "execution_count": null,
      "outputs": [
        {
          "output_type": "execute_result",
          "data": {
            "text/html": [
              "<div>\n",
              "<style scoped>\n",
              "    .dataframe tbody tr th:only-of-type {\n",
              "        vertical-align: middle;\n",
              "    }\n",
              "\n",
              "    .dataframe tbody tr th {\n",
              "        vertical-align: top;\n",
              "    }\n",
              "\n",
              "    .dataframe thead th {\n",
              "        text-align: right;\n",
              "    }\n",
              "</style>\n",
              "<table border=\"1\" class=\"dataframe\">\n",
              "  <thead>\n",
              "    <tr style=\"text-align: right;\">\n",
              "      <th></th>\n",
              "      <th>province_id</th>\n",
              "      <th>province_name</th>\n",
              "      <th>island</th>\n",
              "      <th>iso_code</th>\n",
              "      <th>capital_city</th>\n",
              "      <th>population</th>\n",
              "      <th>population_kmsquare</th>\n",
              "      <th>confirmed</th>\n",
              "      <th>deceased</th>\n",
              "      <th>released</th>\n",
              "      <th>longitude</th>\n",
              "      <th>latitude</th>\n",
              "    </tr>\n",
              "  </thead>\n",
              "  <tbody>\n",
              "    <tr>\n",
              "      <th>0</th>\n",
              "      <td>1</td>\n",
              "      <td>Aceh</td>\n",
              "      <td>Sumatra</td>\n",
              "      <td>AC</td>\n",
              "      <td>Banda Aceh</td>\n",
              "      <td>4906835</td>\n",
              "      <td>86</td>\n",
              "      <td>4</td>\n",
              "      <td>0</td>\n",
              "      <td>0</td>\n",
              "      <td>9.672.895</td>\n",
              "      <td>3.869.994</td>\n",
              "    </tr>\n",
              "    <tr>\n",
              "      <th>1</th>\n",
              "      <td>2</td>\n",
              "      <td>Bali</td>\n",
              "      <td>Kepulauan Nusa Tenggara</td>\n",
              "      <td>BA</td>\n",
              "      <td>Denpasar</td>\n",
              "      <td>4104900</td>\n",
              "      <td>738</td>\n",
              "      <td>9</td>\n",
              "      <td>2</td>\n",
              "      <td>0</td>\n",
              "      <td>11.512.255</td>\n",
              "      <td>-825.731</td>\n",
              "    </tr>\n",
              "    <tr>\n",
              "      <th>2</th>\n",
              "      <td>3</td>\n",
              "      <td>Banten</td>\n",
              "      <td>Jawa</td>\n",
              "      <td>BT</td>\n",
              "      <td>Serang</td>\n",
              "      <td>11704877</td>\n",
              "      <td>1298</td>\n",
              "      <td>84</td>\n",
              "      <td>4</td>\n",
              "      <td>1</td>\n",
              "      <td>106.160.889</td>\n",
              "      <td>-6.315.299</td>\n",
              "    </tr>\n",
              "    <tr>\n",
              "      <th>3</th>\n",
              "      <td>4</td>\n",
              "      <td>Bengkulu</td>\n",
              "      <td>Sumatra</td>\n",
              "      <td>BE</td>\n",
              "      <td>Bengkulu</td>\n",
              "      <td>1844800</td>\n",
              "      <td>93</td>\n",
              "      <td>0</td>\n",
              "      <td>0</td>\n",
              "      <td>0</td>\n",
              "      <td>102.315.674</td>\n",
              "      <td>-3.414.725</td>\n",
              "    </tr>\n",
              "    <tr>\n",
              "      <th>4</th>\n",
              "      <td>5</td>\n",
              "      <td>DI Yogyakarta</td>\n",
              "      <td>Jawa</td>\n",
              "      <td>YO</td>\n",
              "      <td>Yogyakarta</td>\n",
              "      <td>3553100</td>\n",
              "      <td>1134</td>\n",
              "      <td>22</td>\n",
              "      <td>2</td>\n",
              "      <td>1</td>\n",
              "      <td>110.390.625</td>\n",
              "      <td>-7.863.382</td>\n",
              "    </tr>\n",
              "  </tbody>\n",
              "</table>\n",
              "</div>"
            ],
            "text/plain": [
              "   province_id  province_name  ...    longitude    latitude\n",
              "0            1           Aceh  ...    9.672.895   3.869.994\n",
              "1            2           Bali  ...   11.512.255    -825.731\n",
              "2            3         Banten  ...  106.160.889  -6.315.299\n",
              "3            4       Bengkulu  ...  102.315.674  -3.414.725\n",
              "4            5  DI Yogyakarta  ...  110.390.625  -7.863.382\n",
              "\n",
              "[5 rows x 12 columns]"
            ]
          },
          "metadata": {},
          "execution_count": 75
        }
      ]
    },
    {
      "cell_type": "code",
      "metadata": {
        "colab": {
          "base_uri": "https://localhost:8080/",
          "height": 257
        },
        "id": "NEINCjIFBG3R",
        "outputId": "63a8adb3-f6a4-4a62-b17d-3c8da9a3132c"
      },
      "source": [
        "data2.tail()"
      ],
      "execution_count": null,
      "outputs": [
        {
          "output_type": "execute_result",
          "data": {
            "text/html": [
              "<div>\n",
              "<style scoped>\n",
              "    .dataframe tbody tr th:only-of-type {\n",
              "        vertical-align: middle;\n",
              "    }\n",
              "\n",
              "    .dataframe tbody tr th {\n",
              "        vertical-align: top;\n",
              "    }\n",
              "\n",
              "    .dataframe thead th {\n",
              "        text-align: right;\n",
              "    }\n",
              "</style>\n",
              "<table border=\"1\" class=\"dataframe\">\n",
              "  <thead>\n",
              "    <tr style=\"text-align: right;\">\n",
              "      <th></th>\n",
              "      <th>province_id</th>\n",
              "      <th>province_name</th>\n",
              "      <th>island</th>\n",
              "      <th>iso_code</th>\n",
              "      <th>capital_city</th>\n",
              "      <th>population</th>\n",
              "      <th>population_kmsquare</th>\n",
              "      <th>confirmed</th>\n",
              "      <th>deceased</th>\n",
              "      <th>released</th>\n",
              "      <th>longitude</th>\n",
              "      <th>latitude</th>\n",
              "    </tr>\n",
              "  </thead>\n",
              "  <tbody>\n",
              "    <tr>\n",
              "      <th>29</th>\n",
              "      <td>30</td>\n",
              "      <td>Sulawesi Tenggara</td>\n",
              "      <td>Sulawesi</td>\n",
              "      <td>SG</td>\n",
              "      <td>Kendari</td>\n",
              "      <td>2448081</td>\n",
              "      <td>67</td>\n",
              "      <td>3</td>\n",
              "      <td>0</td>\n",
              "      <td>0</td>\n",
              "      <td>121.959.229</td>\n",
              "      <td>-3.697.078</td>\n",
              "    </tr>\n",
              "    <tr>\n",
              "      <th>30</th>\n",
              "      <td>31</td>\n",
              "      <td>Sulawesi Utara</td>\n",
              "      <td>Sulawesi</td>\n",
              "      <td>SA</td>\n",
              "      <td>Manado</td>\n",
              "      <td>2386604</td>\n",
              "      <td>171</td>\n",
              "      <td>2</td>\n",
              "      <td>0</td>\n",
              "      <td>0</td>\n",
              "      <td>124.725.037</td>\n",
              "      <td>1.277.055</td>\n",
              "    </tr>\n",
              "    <tr>\n",
              "      <th>31</th>\n",
              "      <td>32</td>\n",
              "      <td>Sumatra Barat</td>\n",
              "      <td>Sumatra</td>\n",
              "      <td>SB</td>\n",
              "      <td>Padang</td>\n",
              "      <td>5131900</td>\n",
              "      <td>121</td>\n",
              "      <td>5</td>\n",
              "      <td>0</td>\n",
              "      <td>0</td>\n",
              "      <td>100.118.408</td>\n",
              "      <td>-0.186767</td>\n",
              "    </tr>\n",
              "    <tr>\n",
              "      <th>32</th>\n",
              "      <td>33</td>\n",
              "      <td>Sumatra Selatan</td>\n",
              "      <td>Sumatra</td>\n",
              "      <td>SS</td>\n",
              "      <td>Palembang</td>\n",
              "      <td>7941500</td>\n",
              "      <td>93</td>\n",
              "      <td>1</td>\n",
              "      <td>0</td>\n",
              "      <td>0</td>\n",
              "      <td>104.710.693</td>\n",
              "      <td>-3.107.606</td>\n",
              "    </tr>\n",
              "    <tr>\n",
              "      <th>33</th>\n",
              "      <td>34</td>\n",
              "      <td>Sumatra Utara</td>\n",
              "      <td>Sumatra</td>\n",
              "      <td>SU</td>\n",
              "      <td>Medan</td>\n",
              "      <td>13766851</td>\n",
              "      <td>189</td>\n",
              "      <td>8</td>\n",
              "      <td>1</td>\n",
              "      <td>0</td>\n",
              "      <td>98.712.158</td>\n",
              "      <td>323.924</td>\n",
              "    </tr>\n",
              "  </tbody>\n",
              "</table>\n",
              "</div>"
            ],
            "text/plain": [
              "    province_id      province_name    island  ... released    longitude    latitude\n",
              "29           30  Sulawesi Tenggara  Sulawesi  ...        0  121.959.229  -3.697.078\n",
              "30           31     Sulawesi Utara  Sulawesi  ...        0  124.725.037   1.277.055\n",
              "31           32      Sumatra Barat   Sumatra  ...        0  100.118.408   -0.186767\n",
              "32           33    Sumatra Selatan   Sumatra  ...        0  104.710.693  -3.107.606\n",
              "33           34      Sumatra Utara   Sumatra  ...        0   98.712.158     323.924\n",
              "\n",
              "[5 rows x 12 columns]"
            ]
          },
          "metadata": {},
          "execution_count": 76
        }
      ]
    },
    {
      "cell_type": "markdown",
      "metadata": {
        "id": "d7FbKfGm3m8y"
      },
      "source": [
        "###**Soal 4**\n",
        "*   Hitunglah nilai persentase perbandingan jumlah terkonfirmasi positif terhadap \n",
        "populasi per km2 untuk masing-masing provinsi.\n",
        "\n"
      ]
    },
    {
      "cell_type": "code",
      "metadata": {
        "colab": {
          "base_uri": "https://localhost:8080/",
          "height": 257
        },
        "id": "1aCmvO5UbdoT",
        "outputId": "985c5517-7e0c-43a1-b579-99400134c84c"
      },
      "source": [
        "data2['Positive_Rate'] = data2['confirmed'] / data2['population_kmsquare'] * 100\n",
        "data2.head()"
      ],
      "execution_count": null,
      "outputs": [
        {
          "output_type": "execute_result",
          "data": {
            "text/html": [
              "<div>\n",
              "<style scoped>\n",
              "    .dataframe tbody tr th:only-of-type {\n",
              "        vertical-align: middle;\n",
              "    }\n",
              "\n",
              "    .dataframe tbody tr th {\n",
              "        vertical-align: top;\n",
              "    }\n",
              "\n",
              "    .dataframe thead th {\n",
              "        text-align: right;\n",
              "    }\n",
              "</style>\n",
              "<table border=\"1\" class=\"dataframe\">\n",
              "  <thead>\n",
              "    <tr style=\"text-align: right;\">\n",
              "      <th></th>\n",
              "      <th>province_id</th>\n",
              "      <th>province_name</th>\n",
              "      <th>island</th>\n",
              "      <th>iso_code</th>\n",
              "      <th>capital_city</th>\n",
              "      <th>population</th>\n",
              "      <th>population_kmsquare</th>\n",
              "      <th>confirmed</th>\n",
              "      <th>deceased</th>\n",
              "      <th>released</th>\n",
              "      <th>longitude</th>\n",
              "      <th>latitude</th>\n",
              "      <th>Positive_Rate</th>\n",
              "    </tr>\n",
              "  </thead>\n",
              "  <tbody>\n",
              "    <tr>\n",
              "      <th>0</th>\n",
              "      <td>1</td>\n",
              "      <td>Aceh</td>\n",
              "      <td>Sumatra</td>\n",
              "      <td>AC</td>\n",
              "      <td>Banda Aceh</td>\n",
              "      <td>4906835</td>\n",
              "      <td>86</td>\n",
              "      <td>4</td>\n",
              "      <td>0</td>\n",
              "      <td>0</td>\n",
              "      <td>9.672.895</td>\n",
              "      <td>3.869.994</td>\n",
              "      <td>4.651163</td>\n",
              "    </tr>\n",
              "    <tr>\n",
              "      <th>1</th>\n",
              "      <td>2</td>\n",
              "      <td>Bali</td>\n",
              "      <td>Kepulauan Nusa Tenggara</td>\n",
              "      <td>BA</td>\n",
              "      <td>Denpasar</td>\n",
              "      <td>4104900</td>\n",
              "      <td>738</td>\n",
              "      <td>9</td>\n",
              "      <td>2</td>\n",
              "      <td>0</td>\n",
              "      <td>11.512.255</td>\n",
              "      <td>-825.731</td>\n",
              "      <td>1.219512</td>\n",
              "    </tr>\n",
              "    <tr>\n",
              "      <th>2</th>\n",
              "      <td>3</td>\n",
              "      <td>Banten</td>\n",
              "      <td>Jawa</td>\n",
              "      <td>BT</td>\n",
              "      <td>Serang</td>\n",
              "      <td>11704877</td>\n",
              "      <td>1298</td>\n",
              "      <td>84</td>\n",
              "      <td>4</td>\n",
              "      <td>1</td>\n",
              "      <td>106.160.889</td>\n",
              "      <td>-6.315.299</td>\n",
              "      <td>6.471495</td>\n",
              "    </tr>\n",
              "    <tr>\n",
              "      <th>3</th>\n",
              "      <td>4</td>\n",
              "      <td>Bengkulu</td>\n",
              "      <td>Sumatra</td>\n",
              "      <td>BE</td>\n",
              "      <td>Bengkulu</td>\n",
              "      <td>1844800</td>\n",
              "      <td>93</td>\n",
              "      <td>0</td>\n",
              "      <td>0</td>\n",
              "      <td>0</td>\n",
              "      <td>102.315.674</td>\n",
              "      <td>-3.414.725</td>\n",
              "      <td>0.000000</td>\n",
              "    </tr>\n",
              "    <tr>\n",
              "      <th>4</th>\n",
              "      <td>5</td>\n",
              "      <td>DI Yogyakarta</td>\n",
              "      <td>Jawa</td>\n",
              "      <td>YO</td>\n",
              "      <td>Yogyakarta</td>\n",
              "      <td>3553100</td>\n",
              "      <td>1134</td>\n",
              "      <td>22</td>\n",
              "      <td>2</td>\n",
              "      <td>1</td>\n",
              "      <td>110.390.625</td>\n",
              "      <td>-7.863.382</td>\n",
              "      <td>1.940035</td>\n",
              "    </tr>\n",
              "  </tbody>\n",
              "</table>\n",
              "</div>"
            ],
            "text/plain": [
              "   province_id  province_name  ...    latitude Positive_Rate\n",
              "0            1           Aceh  ...   3.869.994      4.651163\n",
              "1            2           Bali  ...    -825.731      1.219512\n",
              "2            3         Banten  ...  -6.315.299      6.471495\n",
              "3            4       Bengkulu  ...  -3.414.725      0.000000\n",
              "4            5  DI Yogyakarta  ...  -7.863.382      1.940035\n",
              "\n",
              "[5 rows x 13 columns]"
            ]
          },
          "metadata": {},
          "execution_count": 77
        }
      ]
    },
    {
      "cell_type": "markdown",
      "metadata": {
        "id": "Ksctzr0PbapX"
      },
      "source": [
        "*   Dengan menggunakan bar plot, tampilkan perbandingan nilai persentase tersebut \n",
        "untuk masing-masing provinsi."
      ]
    },
    {
      "cell_type": "code",
      "metadata": {
        "colab": {
          "base_uri": "https://localhost:8080/",
          "height": 532
        },
        "id": "wDw7dbZPboX5",
        "outputId": "8f6908ba-e4b0-4caa-95b5-00b8fd5da059"
      },
      "source": [
        "data2.plot(x=\"province_name\", y=\"Positive_Rate\",\n",
        "          kind ='bar', \n",
        "          figsize=(10, 6),\n",
        "          alpha=0.7,\n",
        "          )\n",
        "\n",
        "plt.title('Positive Rate Terhadap Populasi Masing-Masing Provinsi')\n",
        "plt.ylabel('Rate (In Percent)')\n",
        "plt.xlabel('Provinsi')\n",
        "plt.show()"
      ],
      "execution_count": null,
      "outputs": [
        {
          "output_type": "display_data",
          "data": {
            "image/png": "[encoded data removed]",
            "text/plain": [
              "<Figure size 720x432 with 1 Axes>"
            ]
          },
          "metadata": {
            "needs_background": "light"
          }
        }
      ]
    },
    {
      "cell_type": "markdown",
      "metadata": {
        "id": "qj2yoEtgbccG"
      },
      "source": [
        "*   Tampilkan 3 provinsi dengan nilai persentasi terbesar beserta nilai persentasenya."
      ]
    },
    {
      "cell_type": "code",
      "metadata": {
        "colab": {
          "base_uri": "https://localhost:8080/",
          "height": 142
        },
        "id": "J-43atCMbv69",
        "outputId": "d98c6be5-1374-4cf8-94c9-b1d87e492b7b"
      },
      "source": [
        "data2_tinggi = data2[['province_name', 'Positive_Rate']].sort_values(by=['Positive_Rate'], ascending=False)\n",
        "data2_tinggi.head(3)"
      ],
      "execution_count": null,
      "outputs": [
        {
          "output_type": "execute_result",
          "data": {
            "text/html": [
              "<div>\n",
              "<style scoped>\n",
              "    .dataframe tbody tr th:only-of-type {\n",
              "        vertical-align: middle;\n",
              "    }\n",
              "\n",
              "    .dataframe tbody tr th {\n",
              "        vertical-align: top;\n",
              "    }\n",
              "\n",
              "    .dataframe thead th {\n",
              "        text-align: right;\n",
              "    }\n",
              "</style>\n",
              "<table border=\"1\" class=\"dataframe\">\n",
              "  <thead>\n",
              "    <tr style=\"text-align: right;\">\n",
              "      <th></th>\n",
              "      <th>province_name</th>\n",
              "      <th>Positive_Rate</th>\n",
              "    </tr>\n",
              "  </thead>\n",
              "  <tbody>\n",
              "    <tr>\n",
              "      <th>23</th>\n",
              "      <td>Papua</td>\n",
              "      <td>70.000000</td>\n",
              "    </tr>\n",
              "    <tr>\n",
              "      <th>14</th>\n",
              "      <td>Kalimantan Timur</td>\n",
              "      <td>64.705882</td>\n",
              "    </tr>\n",
              "    <tr>\n",
              "      <th>5</th>\n",
              "      <td>DKI Jakarta</td>\n",
              "      <td>44.198078</td>\n",
              "    </tr>\n",
              "  </tbody>\n",
              "</table>\n",
              "</div>"
            ],
            "text/plain": [
              "       province_name  Positive_Rate\n",
              "23             Papua      70.000000\n",
              "14  Kalimantan Timur      64.705882\n",
              "5        DKI Jakarta      44.198078"
            ]
          },
          "metadata": {},
          "execution_count": 79
        }
      ]
    },
    {
      "cell_type": "markdown",
      "metadata": {
        "id": "f4eYIosp3m8z"
      },
      "source": [
        "###**Soal 5**\n",
        "Dengan menggunakan pie chart, tampilkan persentase jumlah terkonfimasi positif untuk masing-masing pulau."
      ]
    },
    {
      "cell_type": "code",
      "metadata": {
        "id": "aB_VlZe43m80",
        "colab": {
          "base_uri": "https://localhost:8080/",
          "height": 375
        },
        "outputId": "2053e665-1fb1-4f7d-f410-895e8d4bbef6"
      },
      "source": [
        "data2_island = data2.groupby('island', axis=0).sum()\n",
        "explode_list = [0.1, 0.1, 0.4, 0.2, 0.5, 0.1, 0]\n",
        "data2_island['confirmed'].plot(kind='pie',\n",
        "                              figsize=(16, 7),\n",
        "                              autopct='%1.1f%%',\n",
        "                              startangle=90,\n",
        "                              shadow=True,\n",
        "                              labels=None,\n",
        "                              pctdistance=1.12,\n",
        "                              explode=explode_list\n",
        "                              )\n",
        "plt.title('Jumlah Terkonfimasi Positif Untuk Masing-Masing Pulau', y=1.2)\n",
        "plt.axis('equal')\n",
        "plt.legend(labels=data2_island.index, loc='upper left')\n",
        "plt.show"
      ],
      "execution_count": null,
      "outputs": [
        {
          "output_type": "execute_result",
          "data": {
            "text/plain": [
              "<function matplotlib.pyplot.show>"
            ]
          },
          "metadata": {},
          "execution_count": 80
        },
        {
          "output_type": "display_data",
          "data": {
            "image/png": "[encoded data removed]",
            "text/plain": [
              "<Figure size 1152x504 with 1 Axes>"
            ]
          },
          "metadata": {}
        }
      ]
    }
  ]
}